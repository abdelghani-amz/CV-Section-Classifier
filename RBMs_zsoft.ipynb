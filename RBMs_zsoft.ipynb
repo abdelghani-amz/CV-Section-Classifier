{
 "cells": [
  {
   "cell_type": "code",
   "execution_count": 16,
   "metadata": {},
   "outputs": [],
   "source": [
    "import numpy as np\n",
    "import pandas as pd\n",
    "from nltk import tokenize, stem, corpus, download\n",
    "import regex as re\n"
   ]
  },
  {
   "cell_type": "code",
   "execution_count": 17,
   "metadata": {},
   "outputs": [],
   "source": [
    "from sklearn.preprocessing import LabelEncoder\n",
    "encoder = LabelEncoder()\n",
    "\n",
    "\n",
    "df = pd.read_csv(\"Train_zsoft.csv\")\n",
    "df2 = pd.read_csv(\"Test_zsoft.csv\")\n",
    "Y = encoder.fit_transform(list(df[\"label\"]))"
   ]
  },
  {
   "cell_type": "code",
   "execution_count": 18,
   "metadata": {},
   "outputs": [],
   "source": [
    "X_raw = list(df[\"text\"]) + list(df2[\"text\"])"
   ]
  },
  {
   "cell_type": "code",
   "execution_count": 19,
   "metadata": {},
   "outputs": [],
   "source": [
    "def preprocess(content):\n",
    "\n",
    "    content = content.lower()\n",
    "    dateReg = r\"((\\d{4}.+?\\d{4})|\\b\\d{4}\\b)\"\n",
    "    moneyReg = r\"(\\d+[\\., ]*)+(k|K|m|M)?($|£|€)\"#(\\d+\\W*)+(k|K|m|M)?($|£|€)\n",
    "\n",
    "    content = re.sub(moneyReg, \" dollar \", content)\n",
    "    content = re.sub(dateReg, \" span \", content)\n",
    "\n",
    "    tokenizer = tokenize.TreebankWordTokenizer()\n",
    "    \n",
    "    stopwords = corpus.stopwords.words('french') \n",
    "    stemmer = stem.SnowballStemmer(\"french\")\n",
    "\n",
    "    tokens = tokenizer.tokenize(content)\n",
    "\n",
    "    \n",
    "\n",
    "    return [stemmer.stem(token) for token in tokens if token not in stopwords and token.isalpha()]"
   ]
  },
  {
   "cell_type": "code",
   "execution_count": 20,
   "metadata": {},
   "outputs": [],
   "source": [
    "initial_vocab = []\n",
    "dataset = []\n",
    "X_Kaggle = []\n",
    "for i in range(len(X_raw)):\n",
    "    temp = preprocess(X_raw[i])\n",
    "    initial_vocab = initial_vocab + temp\n",
    "\n",
    "    if i < len(Y):\n",
    "        dataset = dataset + [temp]"
   ]
  },
  {
   "cell_type": "code",
   "execution_count": 21,
   "metadata": {},
   "outputs": [],
   "source": [
    "from collections import Counter\n",
    "frequencies = Counter(initial_vocab)\n",
    "final_vocab = []\n",
    "k = 1\n",
    "for key,value in frequencies.items():\n",
    "    if value >= k:\n",
    "        final_vocab.append(key)\n",
    "\n",
    "\n",
    "token_to_index = dict()\n",
    "i = 0 \n",
    "for i in range(len(final_vocab)):\n",
    "    token_to_index[final_vocab[i]] = i "
   ]
  },
  {
   "cell_type": "code",
   "execution_count": 22,
   "metadata": {},
   "outputs": [],
   "source": [
    "def transform(tokens, final_vocab):\n",
    "    transformed = [token_to_index[token] for token in tokens if token in final_vocab]\n",
    "    return transformed\n",
    "\n",
    "def counterFeatures(tokens):\n",
    "    indices = transform(tokens, final_vocab)\n",
    "    X = np.zeros((1,len(final_vocab)))\n",
    "\n",
    "    for i in indices:\n",
    "        X[0][i] += 1 \n",
    "\n",
    "    return X "
   ]
  },
  {
   "cell_type": "code",
   "execution_count": 23,
   "metadata": {},
   "outputs": [],
   "source": [
    "n = len(final_vocab)\n",
    "m = len(df)\n",
    "X_counter_full = np.zeros((m, n), dtype=np.uint16)\n",
    "\n",
    "for i in range(m) :\n",
    "    X_counter_full[i][:] = counterFeatures(dataset[i]) \n",
    "\n",
    "X_binary = np.copy(X_counter_full)\n",
    "X_binary[X_binary > 1] = 1"
   ]
  },
  {
   "cell_type": "code",
   "execution_count": 25,
   "metadata": {},
   "outputs": [],
   "source": [
    "from sklearn.model_selection import train_test_split\n",
    "\n",
    "X_counter_train, X_counter_test, Y_counter_train, Y_counter_test = train_test_split(X_counter_full, Y, test_size=0.2) \n",
    "X_binary_train, X_binary_test, Y_binary_train, Y_binary_test = train_test_split(X_binary, Y, test_size=0.2) "
   ]
  },
  {
   "cell_type": "code",
   "execution_count": 27,
   "metadata": {},
   "outputs": [
    {
     "data": {
      "text/plain": [
       "MultinomialNB()"
      ]
     },
     "execution_count": 27,
     "metadata": {},
     "output_type": "execute_result"
    }
   ],
   "source": [
    "from sklearn.naive_bayes import MultinomialNB\n",
    "bayes_counter = MultinomialNB()\n",
    "bayes_counter.fit(X_binary, Y)"
   ]
  },
  {
   "cell_type": "code",
   "execution_count": 28,
   "metadata": {},
   "outputs": [
    {
     "name": "stdout",
     "output_type": "stream",
     "text": [
      "Training Accuracy: 81.22075077168176 %\n"
     ]
    }
   ],
   "source": [
    "print(\"Training Accuracy:\",(bayes_counter.score(X_binary, Y))*100,\"%\")\n",
    "#print(\"Testing Accuracy:\",(bayes_counter.score(X_counter_test, Y_counter_test))*100,\"%\")"
   ]
  },
  {
   "cell_type": "code",
   "execution_count": 37,
   "metadata": {},
   "outputs": [
    {
     "data": {
      "text/plain": [
       "MultinomialNB()"
      ]
     },
     "execution_count": 37,
     "metadata": {},
     "output_type": "execute_result"
    }
   ],
   "source": [
    "from sklearn.naive_bayes import MultinomialNB\n",
    "bayes_binary = MultinomialNB()\n",
    "bayes_binary.fit(X_binary, Y)"
   ]
  },
  {
   "cell_type": "code",
   "execution_count": 38,
   "metadata": {},
   "outputs": [
    {
     "name": "stdout",
     "output_type": "stream",
     "text": [
      "Training Accuracy: 81.15768860566232 %\n"
     ]
    }
   ],
   "source": [
    "print(\"Training Accuracy:\",(bayes_binary.score(X_binary, Y))*100,\"%\")\n",
    "#print(\"Testing Accuracy:\",(bayes_binary.score(X_binary_test, Y_binary_test))*100,\"%\")"
   ]
  },
  {
   "cell_type": "code",
   "execution_count": 39,
   "metadata": {},
   "outputs": [
    {
     "data": {
      "text/plain": [
       "BernoulliNB()"
      ]
     },
     "execution_count": 39,
     "metadata": {},
     "output_type": "execute_result"
    }
   ],
   "source": [
    "from sklearn.naive_bayes import MultinomialNB, BernoulliNB\n",
    "bernouli_binary = BernoulliNB()\n",
    "bernouli_binary.fit(X_binary, Y)"
   ]
  },
  {
   "cell_type": "code",
   "execution_count": 40,
   "metadata": {},
   "outputs": [
    {
     "name": "stdout",
     "output_type": "stream",
     "text": [
      "Training Accuracy: 80.78595373228451 %\n"
     ]
    }
   ],
   "source": [
    "print(\"Training Accuracy:\",(bernouli_binary.score(X_binary, Y))*100,\"%\")\n",
    "#print(\"Testing Accuracy:\",(bayes_binary.score(X_binary_test, Y_binary_test))*100,\"%\")"
   ]
  },
  {
   "cell_type": "code",
   "execution_count": 17,
   "metadata": {},
   "outputs": [
    {
     "data": {
      "text/plain": [
       "LogisticRegression(max_iter=1000, random_state=123)"
      ]
     },
     "execution_count": 17,
     "metadata": {},
     "output_type": "execute_result"
    }
   ],
   "source": [
    "from sklearn.linear_model import LogisticRegression \n",
    "regBinary = LogisticRegression(max_iter=1000, penalty=\"l2\", random_state=123)\n",
    "regBinary.fit(X_binary, Y)"
   ]
  },
  {
   "cell_type": "code",
   "execution_count": 18,
   "metadata": {},
   "outputs": [
    {
     "ename": "",
     "evalue": "",
     "output_type": "error",
     "traceback": [
      "\u001b[1;31mThe Kernel crashed while executing code in the the current cell or a previous cell. Please review the code in the cell(s) to identify a possible cause of the failure. Click <a href='https://aka.ms/vscodeJupyterKernelCrash'>here</a> for more info. View Jupyter <a href='command:jupyter.viewOutput'>log</a> for further details."
     ]
    },
    {
     "ename": "",
     "evalue": "",
     "output_type": "error",
     "traceback": [
      "\u001b[1;31mCanceled future for execute_request message before replies were done"
     ]
    }
   ],
   "source": [
    "print(\"Training Accuracy:\",(regBinary.score(X_binary, Y))*100,\"%\")\n",
    "#print(\"Testing Accuracy:\",(regBinary.score(X_binary_test, Y_binary_test))*100,\"%\")"
   ]
  },
  {
   "cell_type": "code",
   "execution_count": 14,
   "metadata": {},
   "outputs": [
    {
     "name": "stdout",
     "output_type": "stream",
     "text": [
      "[LibLinear]..*\n",
      "optimization finished, #iter = 25\n",
      "Objective value = -857.646447\n",
      "nSV = 19881\n",
      "..*\n",
      "optimization finished, #iter = 27\n",
      "Objective value = -1556.399866\n",
      "nSV = 24506\n",
      "..*\n",
      "optimization finished, #iter = 28\n",
      "Objective value = -1206.137656\n",
      "nSV = 20360\n"
     ]
    },
    {
     "data": {
      "text/plain": [
       "LinearSVC(C=0.1, max_iter=10000, random_state=10, verbose=1)"
      ]
     },
     "execution_count": 14,
     "metadata": {},
     "output_type": "execute_result"
    }
   ],
   "source": [
    "from sklearn.svm import SVC, LinearSVC\n",
    "\n",
    "svc = LinearSVC(C=0.1 ,verbose=1, random_state=10, max_iter=10000)\n",
    "svc.fit(X_binary, Y)"
   ]
  },
  {
   "cell_type": "code",
   "execution_count": 15,
   "metadata": {},
   "outputs": [
    {
     "name": "stdout",
     "output_type": "stream",
     "text": [
      "Training Accuracy: 83.36154535497361 %\n"
     ]
    }
   ],
   "source": [
    "print(\"Training Accuracy:\",(svc.score(X_binary, Y))*100,\"%\")\n"
   ]
  },
  {
   "cell_type": "code",
   "execution_count": 16,
   "metadata": {},
   "outputs": [],
   "source": [
    "temp = list(df2[\"text\"])\n",
    "X_Kaggle = np.zeros((len(temp), len(final_vocab)), dtype=np.uint16)\n",
    "for i in range(len(temp)) :\n",
    "    x = preprocess(temp[i])\n",
    "    X_Kaggle[i][:] = counterFeatures(x) \n",
    "\n",
    "prediction = svc.predict(X_Kaggle)\n",
    "dfKaggle = df2.copy()\n",
    "dfKaggle[\"label\"] = encoder.inverse_transform(prediction)\n",
    "dfKaggle.drop(\"text\", inplace=True, axis=1)\n",
    "dfKaggle.to_csv(\"prediction.csv\", index=False)"
   ]
  }
 ],
 "metadata": {
  "kernelspec": {
   "display_name": "Python 3",
   "language": "python",
   "name": "python3"
  },
  "language_info": {
   "codemirror_mode": {
    "name": "ipython",
    "version": 3
   },
   "file_extension": ".py",
   "mimetype": "text/x-python",
   "name": "python",
   "nbconvert_exporter": "python",
   "pygments_lexer": "ipython3",
   "version": "3.8.10"
  },
  "orig_nbformat": 4,
  "vscode": {
   "interpreter": {
    "hash": "31f2aee4e71d21fbe5cf8b01ff0e069b9275f58929596ceb00d14d90e3e16cd6"
   }
  }
 },
 "nbformat": 4,
 "nbformat_minor": 2
}
