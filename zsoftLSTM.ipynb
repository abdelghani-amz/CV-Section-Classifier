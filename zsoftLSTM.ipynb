{
 "cells": [
  {
   "cell_type": "code",
   "execution_count": 1,
   "metadata": {},
   "outputs": [],
   "source": [
    "import numpy as np\n",
    "import pandas as pd\n",
    "from nltk import tokenize, stem, corpus, download\n",
    "import regex as re\n"
   ]
  },
  {
   "cell_type": "code",
   "execution_count": 2,
   "metadata": {},
   "outputs": [],
   "source": [
    "from sklearn.preprocessing import LabelEncoder\n",
    "encoder = LabelEncoder()\n",
    "\n",
    "\n",
    "df = pd.read_csv(\"Train_zsoft.csv\")\n",
    "Y = encoder.fit_transform(list(df[\"label\"]))"
   ]
  },
  {
   "cell_type": "code",
   "execution_count": 3,
   "metadata": {},
   "outputs": [],
   "source": [
    "X_raw = list(df[\"text\"])"
   ]
  },
  {
   "cell_type": "code",
   "execution_count": 4,
   "metadata": {},
   "outputs": [],
   "source": [
    "def preprocessLSTM(text):\n",
    "    text = text.lower()\n",
    "    dateReg = r\"((\\d{4}.+?\\d{4})|\\b\\d{4}\\b)\"\n",
    "    moneyReg = r\"(\\d+[\\., ]*)+(k|K|m|M)?($|£|€)\"#(\\d+\\W*)+(k|K|m|M)?($|£|€)\n",
    "\n",
    "\n",
    "    stopwords = corpus.stopwords.words('french') \n",
    "    stemmer = stem.SnowballStemmer(\"french\")\n",
    "\n",
    "    text = re.sub(moneyReg, \" dollar \", text)\n",
    "    text = re.sub(dateReg, \" span \", text)\n",
    "    text = ' '.join(stemmer.stem(word) for word in text.split() if word not in stopwords and word.isalpha())\n",
    "    #okens = text.split()\n",
    "\n",
    "    \n",
    "    \n",
    "    return text #\" \".join([stemmer.stem(token) for token in tokens if token not in stopwords and token.isalpha()])"
   ]
  },
  {
   "cell_type": "code",
   "execution_count": 5,
   "metadata": {},
   "outputs": [],
   "source": [
    "X_LSTM = []\n",
    "for x in X_raw:\n",
    "    X_LSTM = X_LSTM + [preprocessLSTM(x)]\n",
    "for i in list(pd.read_csv(\"Test_zsoft.csv\")[\"text\"]):\n",
    "    X_LSTM = X_LSTM + [preprocessLSTM(x)]"
   ]
  },
  {
   "cell_type": "code",
   "execution_count": 6,
   "metadata": {},
   "outputs": [],
   "source": [
    "MAX_SEQUENCE_LENGTH = len(max(X_LSTM, key= lambda x : len(x)).split())"
   ]
  },
  {
   "cell_type": "code",
   "execution_count": 7,
   "metadata": {},
   "outputs": [
    {
     "name": "stderr",
     "output_type": "stream",
     "text": [
      "2023-02-25 09:38:32.048730: W tensorflow/stream_executor/platform/default/dso_loader.cc:64] Could not load dynamic library 'libcudart.so.11.0'; dlerror: libcudart.so.11.0: cannot open shared object file: No such file or directory\n",
      "2023-02-25 09:38:32.048814: I tensorflow/stream_executor/cuda/cudart_stub.cc:29] Ignore above cudart dlerror if you do not have a GPU set up on your machine.\n"
     ]
    }
   ],
   "source": [
    "from keras.preprocessing.text import Tokenizer\n",
    "from keras.preprocessing.sequence import pad_sequences\n",
    "from keras.models import Sequential\n",
    "from keras.layers import Dense, Embedding, LSTM, SpatialDropout1D\n",
    "from sklearn.model_selection import train_test_split\n",
    "from keras.callbacks import EarlyStopping\n"
   ]
  },
  {
   "cell_type": "code",
   "execution_count": 8,
   "metadata": {},
   "outputs": [
    {
     "name": "stdout",
     "output_type": "stream",
     "text": [
      "Found 11769 unique tokens.\n"
     ]
    }
   ],
   "source": [
    "# The maximum number of words to be used. (most frequent)\n",
    "MAX_NB_WORDS = 1300\n",
    "# Max number of words in each complaint.\n",
    "# This is fixed.\n",
    "EMBEDDING_DIM = 50\n",
    "\n",
    "tokenizer = Tokenizer(num_words=MAX_NB_WORDS)\n",
    "tokenizer.fit_on_texts(X_LSTM)\n",
    "word_index = tokenizer.word_index\n",
    "print('Found %s unique tokens.' % len(word_index))"
   ]
  },
  {
   "cell_type": "code",
   "execution_count": 9,
   "metadata": {},
   "outputs": [],
   "source": [
    "X_final = tokenizer.texts_to_matrix(X_LSTM, \"binary\")\n"
   ]
  },
  {
   "cell_type": "code",
   "execution_count": 10,
   "metadata": {},
   "outputs": [
    {
     "data": {
      "text/plain": [
       "(37662, 1300)"
      ]
     },
     "execution_count": 10,
     "metadata": {},
     "output_type": "execute_result"
    }
   ],
   "source": [
    "X_final.shape"
   ]
  },
  {
   "cell_type": "code",
   "execution_count": 11,
   "metadata": {},
   "outputs": [],
   "source": [
    "#X_final = tokenizer.texts_to_sequences(X_LSTM)#list of integers\n",
    "#X_final = pad_sequences(X_final, maxlen=MAX_SEQUENCE_LENGTH) #padding\n",
    "X_Kaggle =  X_final[len(Y) : ]\n",
    "X_final = X_final[:len(Y)]\n",
    "YOneHot = pd.get_dummies(Y).values"
   ]
  },
  {
   "cell_type": "code",
   "execution_count": 12,
   "metadata": {},
   "outputs": [],
   "source": [
    "# from imblearn.under_sampling import NearMiss\n",
    "# undersample = NearMiss(version=2, n_neighbors=3)\n",
    "# X_final_balanced, YOneHot_balanced = undersample.fit_resample(X_final, YOneHot)"
   ]
  },
  {
   "cell_type": "code",
   "execution_count": 13,
   "metadata": {},
   "outputs": [
    {
     "name": "stdout",
     "output_type": "stream",
     "text": [
      "(21090, 1300) (21090, 3)\n",
      "(9039, 1300) (9039, 3)\n"
     ]
    }
   ],
   "source": [
    "X_train_LSTM, X_test_LSTM, Y_train_LSTM, Y_test_LSTM = train_test_split(X_final, YOneHot, test_size=0.3, random_state = 123)\n",
    "print(X_train_LSTM.shape,Y_train_LSTM.shape)\n",
    "print(X_test_LSTM.shape,Y_test_LSTM.shape)"
   ]
  },
  {
   "cell_type": "code",
   "execution_count": 14,
   "metadata": {},
   "outputs": [
    {
     "name": "stderr",
     "output_type": "stream",
     "text": [
      "2023-02-25 09:38:37.113056: W tensorflow/stream_executor/platform/default/dso_loader.cc:64] Could not load dynamic library 'libcuda.so.1'; dlerror: libcuda.so.1: cannot open shared object file: No such file or directory\n",
      "2023-02-25 09:38:37.113120: W tensorflow/stream_executor/cuda/cuda_driver.cc:269] failed call to cuInit: UNKNOWN ERROR (303)\n",
      "2023-02-25 09:38:37.113172: I tensorflow/stream_executor/cuda/cuda_diagnostics.cc:156] kernel driver does not appear to be running on this host (schnoz-ThinkPad-X260): /proc/driver/nvidia/version does not exist\n",
      "2023-02-25 09:38:37.113608: I tensorflow/core/platform/cpu_feature_guard.cc:151] This TensorFlow binary is optimized with oneAPI Deep Neural Network Library (oneDNN) to use the following CPU instructions in performance-critical operations:  AVX2 FMA\n",
      "To enable them in other operations, rebuild TensorFlow with the appropriate compiler flags.\n"
     ]
    },
    {
     "name": "stdout",
     "output_type": "stream",
     "text": [
      "Model: \"sequential\"\n",
      "_________________________________________________________________\n",
      " Layer (type)                Output Shape              Param #   \n",
      "=================================================================\n",
      " embedding (Embedding)       (None, 1300, 50)          65000     \n",
      "                                                                 \n",
      " spatial_dropout1d (SpatialD  (None, 1300, 50)         0         \n",
      " ropout1D)                                                       \n",
      "                                                                 \n",
      " lstm (LSTM)                 (None, 100)               60400     \n",
      "                                                                 \n",
      " dense (Dense)               (None, 3)                 303       \n",
      "                                                                 \n",
      "=================================================================\n",
      "Total params: 125,703\n",
      "Trainable params: 125,703\n",
      "Non-trainable params: 0\n",
      "_________________________________________________________________\n",
      "None\n"
     ]
    }
   ],
   "source": [
    "model = Sequential()\n",
    "model.add(Embedding(MAX_NB_WORDS, EMBEDDING_DIM, input_length=X_train_LSTM.shape[1]))\n",
    "model.add(SpatialDropout1D(0.2))\n",
    "model.add(LSTM(100, dropout=0.3, recurrent_dropout=0.2))\n",
    "model.add(Dense(3, activation='softmax'))\n",
    "model.compile(loss=\"categorical_crossentropy\", optimizer='adam', metrics=['accuracy'])\n",
    "#model.compile(optimizer='adam', metrics=['accuracy'])\n",
    "print(model.summary())"
   ]
  },
  {
   "cell_type": "code",
   "execution_count": 15,
   "metadata": {},
   "outputs": [
    {
     "name": "stdout",
     "output_type": "stream",
     "text": [
      "Epoch 1/5\n",
      " 31/424 [=>............................] - ETA: 15:41 - loss: 1.0250 - accuracy: 0.5277"
     ]
    }
   ],
   "source": [
    "epochs = 5\n",
    "batch_size = 64\n",
    "# Code Here\n",
    "history = model.fit(x= X_final,\n",
    "                    y = YOneHot,\n",
    "                    epochs=epochs,\n",
    "                    batch_size=batch_size,\n",
    "                    validation_split=0.1,\n",
    "                    callbacks=[\n",
    "                        EarlyStopping(monitor='val_loss',\n",
    "                                      patience=3,\n",
    "                                      min_delta=0.0001)\n",
    "                    ])"
   ]
  },
  {
   "cell_type": "code",
   "execution_count": null,
   "metadata": {},
   "outputs": [
    {
     "name": "stdout",
     "output_type": "stream",
     "text": [
      "Test set\n",
      "  Loss: 0.46\n",
      "  Accuracy: 0.80\n"
     ]
    }
   ],
   "source": [
    "score = model.evaluate(X_final, YOneHot, verbose=0)\n",
    "print('Test set\\n  Loss: {:0.2f}\\n  Accuracy: {:0.2f}'.format(score[0],score[1]))"
   ]
  }
 ],
 "metadata": {
  "kernelspec": {
   "display_name": "Python 3",
   "language": "python",
   "name": "python3"
  },
  "language_info": {
   "codemirror_mode": {
    "name": "ipython",
    "version": 3
   },
   "file_extension": ".py",
   "mimetype": "text/x-python",
   "name": "python",
   "nbconvert_exporter": "python",
   "pygments_lexer": "ipython3",
   "version": "3.8.10"
  },
  "orig_nbformat": 4,
  "vscode": {
   "interpreter": {
    "hash": "31f2aee4e71d21fbe5cf8b01ff0e069b9275f58929596ceb00d14d90e3e16cd6"
   }
  }
 },
 "nbformat": 4,
 "nbformat_minor": 2
}
